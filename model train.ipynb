{
 "cells": [
  {
   "cell_type": "code",
   "execution_count": 11,
   "id": "d38a793a-6a30-419b-94f5-ff2ad093cbb5",
   "metadata": {},
   "outputs": [],
   "source": [
    "import pandas as pd\n",
    "import numpy as np"
   ]
  },
  {
   "cell_type": "code",
   "execution_count": 12,
   "id": "966d9429-f5d1-48e2-b9f0-411aac41f3dc",
   "metadata": {},
   "outputs": [],
   "source": [
    "df = pd.read_csv(\"spotify_millsongdata.csv\")"
   ]
  },
  {
   "cell_type": "code",
   "execution_count": 13,
   "id": "f806ab6e-6eec-49e5-80df-94409cd52900",
   "metadata": {},
   "outputs": [
    {
     "data": {
      "text/html": [
       "<div>\n",
       "<style scoped>\n",
       "    .dataframe tbody tr th:only-of-type {\n",
       "        vertical-align: middle;\n",
       "    }\n",
       "\n",
       "    .dataframe tbody tr th {\n",
       "        vertical-align: top;\n",
       "    }\n",
       "\n",
       "    .dataframe thead th {\n",
       "        text-align: right;\n",
       "    }\n",
       "</style>\n",
       "<table border=\"1\" class=\"dataframe\">\n",
       "  <thead>\n",
       "    <tr style=\"text-align: right;\">\n",
       "      <th></th>\n",
       "      <th>artist</th>\n",
       "      <th>song</th>\n",
       "      <th>link</th>\n",
       "      <th>text</th>\n",
       "    </tr>\n",
       "  </thead>\n",
       "  <tbody>\n",
       "    <tr>\n",
       "      <th>0</th>\n",
       "      <td>ABBA</td>\n",
       "      <td>Ahe's My Kind Of Girl</td>\n",
       "      <td>/a/abba/ahes+my+kind+of+girl_20598417.html</td>\n",
       "      <td>Look at her face, it's a wonderful face  \\r\\nA...</td>\n",
       "    </tr>\n",
       "    <tr>\n",
       "      <th>1</th>\n",
       "      <td>ABBA</td>\n",
       "      <td>Andante, Andante</td>\n",
       "      <td>/a/abba/andante+andante_20002708.html</td>\n",
       "      <td>Take it easy with me, please  \\r\\nTouch me gen...</td>\n",
       "    </tr>\n",
       "    <tr>\n",
       "      <th>2</th>\n",
       "      <td>ABBA</td>\n",
       "      <td>As Good As New</td>\n",
       "      <td>/a/abba/as+good+as+new_20003033.html</td>\n",
       "      <td>I'll never know why I had to go  \\r\\nWhy I had...</td>\n",
       "    </tr>\n",
       "    <tr>\n",
       "      <th>3</th>\n",
       "      <td>ABBA</td>\n",
       "      <td>Bang</td>\n",
       "      <td>/a/abba/bang_20598415.html</td>\n",
       "      <td>Making somebody happy is a question of give an...</td>\n",
       "    </tr>\n",
       "    <tr>\n",
       "      <th>4</th>\n",
       "      <td>ABBA</td>\n",
       "      <td>Bang-A-Boomerang</td>\n",
       "      <td>/a/abba/bang+a+boomerang_20002668.html</td>\n",
       "      <td>Making somebody happy is a question of give an...</td>\n",
       "    </tr>\n",
       "  </tbody>\n",
       "</table>\n",
       "</div>"
      ],
      "text/plain": [
       "  artist                   song                                        link  \\\n",
       "0   ABBA  Ahe's My Kind Of Girl  /a/abba/ahes+my+kind+of+girl_20598417.html   \n",
       "1   ABBA       Andante, Andante       /a/abba/andante+andante_20002708.html   \n",
       "2   ABBA         As Good As New        /a/abba/as+good+as+new_20003033.html   \n",
       "3   ABBA                   Bang                  /a/abba/bang_20598415.html   \n",
       "4   ABBA       Bang-A-Boomerang      /a/abba/bang+a+boomerang_20002668.html   \n",
       "\n",
       "                                                text  \n",
       "0  Look at her face, it's a wonderful face  \\r\\nA...  \n",
       "1  Take it easy with me, please  \\r\\nTouch me gen...  \n",
       "2  I'll never know why I had to go  \\r\\nWhy I had...  \n",
       "3  Making somebody happy is a question of give an...  \n",
       "4  Making somebody happy is a question of give an...  "
      ]
     },
     "execution_count": 13,
     "metadata": {},
     "output_type": "execute_result"
    }
   ],
   "source": [
    "df.head(5)"
   ]
  },
  {
   "cell_type": "code",
   "execution_count": 14,
   "id": "ba532114-1e62-48e7-9b40-63ba41d18bea",
   "metadata": {},
   "outputs": [
    {
     "data": {
      "text/html": [
       "<div>\n",
       "<style scoped>\n",
       "    .dataframe tbody tr th:only-of-type {\n",
       "        vertical-align: middle;\n",
       "    }\n",
       "\n",
       "    .dataframe tbody tr th {\n",
       "        vertical-align: top;\n",
       "    }\n",
       "\n",
       "    .dataframe thead th {\n",
       "        text-align: right;\n",
       "    }\n",
       "</style>\n",
       "<table border=\"1\" class=\"dataframe\">\n",
       "  <thead>\n",
       "    <tr style=\"text-align: right;\">\n",
       "      <th></th>\n",
       "      <th>artist</th>\n",
       "      <th>song</th>\n",
       "      <th>link</th>\n",
       "      <th>text</th>\n",
       "    </tr>\n",
       "  </thead>\n",
       "  <tbody>\n",
       "    <tr>\n",
       "      <th>57645</th>\n",
       "      <td>Ziggy Marley</td>\n",
       "      <td>Good Old Days</td>\n",
       "      <td>/z/ziggy+marley/good+old+days_10198588.html</td>\n",
       "      <td>Irie days come on play  \\r\\nLet the angels fly...</td>\n",
       "    </tr>\n",
       "    <tr>\n",
       "      <th>57646</th>\n",
       "      <td>Ziggy Marley</td>\n",
       "      <td>Hand To Mouth</td>\n",
       "      <td>/z/ziggy+marley/hand+to+mouth_20531167.html</td>\n",
       "      <td>Power to the workers  \\r\\nMore power  \\r\\nPowe...</td>\n",
       "    </tr>\n",
       "    <tr>\n",
       "      <th>57647</th>\n",
       "      <td>Zwan</td>\n",
       "      <td>Come With Me</td>\n",
       "      <td>/z/zwan/come+with+me_20148981.html</td>\n",
       "      <td>all you need  \\r\\nis something i'll believe  \\...</td>\n",
       "    </tr>\n",
       "    <tr>\n",
       "      <th>57648</th>\n",
       "      <td>Zwan</td>\n",
       "      <td>Desire</td>\n",
       "      <td>/z/zwan/desire_20148986.html</td>\n",
       "      <td>northern star  \\r\\nam i frightened  \\r\\nwhere ...</td>\n",
       "    </tr>\n",
       "    <tr>\n",
       "      <th>57649</th>\n",
       "      <td>Zwan</td>\n",
       "      <td>Heartsong</td>\n",
       "      <td>/z/zwan/heartsong_20148991.html</td>\n",
       "      <td>come in  \\r\\nmake yourself at home  \\r\\ni'm a ...</td>\n",
       "    </tr>\n",
       "  </tbody>\n",
       "</table>\n",
       "</div>"
      ],
      "text/plain": [
       "             artist           song  \\\n",
       "57645  Ziggy Marley  Good Old Days   \n",
       "57646  Ziggy Marley  Hand To Mouth   \n",
       "57647          Zwan   Come With Me   \n",
       "57648          Zwan         Desire   \n",
       "57649          Zwan      Heartsong   \n",
       "\n",
       "                                              link  \\\n",
       "57645  /z/ziggy+marley/good+old+days_10198588.html   \n",
       "57646  /z/ziggy+marley/hand+to+mouth_20531167.html   \n",
       "57647           /z/zwan/come+with+me_20148981.html   \n",
       "57648                 /z/zwan/desire_20148986.html   \n",
       "57649              /z/zwan/heartsong_20148991.html   \n",
       "\n",
       "                                                    text  \n",
       "57645  Irie days come on play  \\r\\nLet the angels fly...  \n",
       "57646  Power to the workers  \\r\\nMore power  \\r\\nPowe...  \n",
       "57647  all you need  \\r\\nis something i'll believe  \\...  \n",
       "57648  northern star  \\r\\nam i frightened  \\r\\nwhere ...  \n",
       "57649  come in  \\r\\nmake yourself at home  \\r\\ni'm a ...  "
      ]
     },
     "execution_count": 14,
     "metadata": {},
     "output_type": "execute_result"
    }
   ],
   "source": [
    "df.tail(5)"
   ]
  },
  {
   "cell_type": "code",
   "execution_count": 15,
   "id": "db1f4b37-b640-4a77-a835-136af33041cf",
   "metadata": {},
   "outputs": [
    {
     "data": {
      "text/plain": [
       "(57650, 4)"
      ]
     },
     "execution_count": 15,
     "metadata": {},
     "output_type": "execute_result"
    }
   ],
   "source": [
    "df.shape"
   ]
  },
  {
   "cell_type": "code",
   "execution_count": 16,
   "id": "dd9d3af8-788c-4a0a-9d3e-88a950370602",
   "metadata": {},
   "outputs": [
    {
     "data": {
      "text/plain": [
       "artist    0\n",
       "song      0\n",
       "link      0\n",
       "text      0\n",
       "dtype: int64"
      ]
     },
     "execution_count": 16,
     "metadata": {},
     "output_type": "execute_result"
    }
   ],
   "source": [
    "df.isnull().sum()"
   ]
  },
  {
   "cell_type": "code",
   "execution_count": 17,
   "id": "e71b7120-73c7-46c6-91fa-4bafce513c8e",
   "metadata": {},
   "outputs": [],
   "source": [
    "df = df.sample(5000).drop('link',axis=1).reset_index(drop=True)"
   ]
  },
  {
   "cell_type": "code",
   "execution_count": 18,
   "id": "7923ab78-30a8-44c7-8117-8fdeda7ba957",
   "metadata": {},
   "outputs": [
    {
     "data": {
      "text/html": [
       "<div>\n",
       "<style scoped>\n",
       "    .dataframe tbody tr th:only-of-type {\n",
       "        vertical-align: middle;\n",
       "    }\n",
       "\n",
       "    .dataframe tbody tr th {\n",
       "        vertical-align: top;\n",
       "    }\n",
       "\n",
       "    .dataframe thead th {\n",
       "        text-align: right;\n",
       "    }\n",
       "</style>\n",
       "<table border=\"1\" class=\"dataframe\">\n",
       "  <thead>\n",
       "    <tr style=\"text-align: right;\">\n",
       "      <th></th>\n",
       "      <th>artist</th>\n",
       "      <th>song</th>\n",
       "      <th>text</th>\n",
       "    </tr>\n",
       "  </thead>\n",
       "  <tbody>\n",
       "    <tr>\n",
       "      <th>0</th>\n",
       "      <td>Tom Waits</td>\n",
       "      <td>Kentucky Avenue</td>\n",
       "      <td>Eddie Graces Buick got four bullet holes in th...</td>\n",
       "    </tr>\n",
       "    <tr>\n",
       "      <th>1</th>\n",
       "      <td>Roy Orbison</td>\n",
       "      <td>(I'd Be) A Legend In My Time</td>\n",
       "      <td>If heartaches brought fame  \\r\\nIn loves crazy...</td>\n",
       "    </tr>\n",
       "    <tr>\n",
       "      <th>2</th>\n",
       "      <td>Planetshakers</td>\n",
       "      <td>I Surrender</td>\n",
       "      <td>Waiting my heart open  \\r\\nHands raised to You...</td>\n",
       "    </tr>\n",
       "    <tr>\n",
       "      <th>3</th>\n",
       "      <td>Ween</td>\n",
       "      <td>El Camino</td>\n",
       "      <td>El Camino, blazing down the road  \\r\\nEl Camin...</td>\n",
       "    </tr>\n",
       "    <tr>\n",
       "      <th>4</th>\n",
       "      <td>Backstreet Boys</td>\n",
       "      <td>All Of Your Life(Need Love)</td>\n",
       "      <td>Hey  \\r\\nYeah, yeah  \\r\\nI wanna know  \\r\\nCan...</td>\n",
       "    </tr>\n",
       "    <tr>\n",
       "      <th>5</th>\n",
       "      <td>Rihanna</td>\n",
       "      <td>Put Them Lighters Up</td>\n",
       "      <td>Just to sleep, just to sleep  \\r\\nPut them lig...</td>\n",
       "    </tr>\n",
       "    <tr>\n",
       "      <th>6</th>\n",
       "      <td>Bruno Mars</td>\n",
       "      <td>Ladies Is Pimps To</td>\n",
       "      <td>Chorus:  \\r\\nFresh out the mall in our brand n...</td>\n",
       "    </tr>\n",
       "    <tr>\n",
       "      <th>7</th>\n",
       "      <td>Linda Ronstadt</td>\n",
       "      <td>Blue Bayou</td>\n",
       "      <td>I feel so bad I got a worried mind  \\r\\nI'm so...</td>\n",
       "    </tr>\n",
       "    <tr>\n",
       "      <th>8</th>\n",
       "      <td>Electric Light Orchestra</td>\n",
       "      <td>In My Own Time</td>\n",
       "      <td>Doom, gloom and misery  \\r\\nThat's what you ga...</td>\n",
       "    </tr>\n",
       "    <tr>\n",
       "      <th>9</th>\n",
       "      <td>Bee Gees</td>\n",
       "      <td>Barker Of The UFO</td>\n",
       "      <td>Barker sing me a song  \\r\\nInstead of counting...</td>\n",
       "    </tr>\n",
       "  </tbody>\n",
       "</table>\n",
       "</div>"
      ],
      "text/plain": [
       "                     artist                          song  \\\n",
       "0                 Tom Waits               Kentucky Avenue   \n",
       "1               Roy Orbison  (I'd Be) A Legend In My Time   \n",
       "2             Planetshakers                   I Surrender   \n",
       "3                      Ween                     El Camino   \n",
       "4           Backstreet Boys   All Of Your Life(Need Love)   \n",
       "5                   Rihanna          Put Them Lighters Up   \n",
       "6                Bruno Mars            Ladies Is Pimps To   \n",
       "7            Linda Ronstadt                    Blue Bayou   \n",
       "8  Electric Light Orchestra                In My Own Time   \n",
       "9                  Bee Gees             Barker Of The UFO   \n",
       "\n",
       "                                                text  \n",
       "0  Eddie Graces Buick got four bullet holes in th...  \n",
       "1  If heartaches brought fame  \\r\\nIn loves crazy...  \n",
       "2  Waiting my heart open  \\r\\nHands raised to You...  \n",
       "3  El Camino, blazing down the road  \\r\\nEl Camin...  \n",
       "4  Hey  \\r\\nYeah, yeah  \\r\\nI wanna know  \\r\\nCan...  \n",
       "5  Just to sleep, just to sleep  \\r\\nPut them lig...  \n",
       "6  Chorus:  \\r\\nFresh out the mall in our brand n...  \n",
       "7  I feel so bad I got a worried mind  \\r\\nI'm so...  \n",
       "8  Doom, gloom and misery  \\r\\nThat's what you ga...  \n",
       "9  Barker sing me a song  \\r\\nInstead of counting...  "
      ]
     },
     "execution_count": 18,
     "metadata": {},
     "output_type": "execute_result"
    }
   ],
   "source": [
    "df.head(10)"
   ]
  },
  {
   "cell_type": "code",
   "execution_count": 19,
   "id": "f9aca987-6f4f-4b43-8a15-7a970c0c2398",
   "metadata": {},
   "outputs": [
    {
     "data": {
      "text/plain": [
       "\"Eddie Graces Buick got four bullet holes in the side,  \\r\\nCharlie Delisle sittin' at the top of an avocado tree.  \\r\\nMrs. Stormll stab you with a steak knife if you step on her lawn.  \\r\\nI got a half pack of Lucky Strikes, man, come along with me!  \\r\\nLets fill our pockets with macadamia nuts, then go over to Bobby Goodmansons\\r\\nand jump off the roof! Hilda plays strip poker and her mamas across the\\r\\nstreet,  \\r\\nJoey Navinski says she put her tongue in his mouth!  \\r\\nDicky Faulkners got a switchblade and some gooseneck risers that eucalyptus is\\r\\na hunchback,  \\r\\nThere's a wind up from the south!  \\r\\nLet me tie you up with kite string and I'll show you the scabs on my knee!  \\r\\nWatch out for the broken glass, put your shoes and socks on and come along\\r\\nwith me!  \\r\\nLets follow that fire truck  \\r\\nI think your house is burnin' down!  \\r\\nThen go down to the hobo jungle  \\r\\nAnd kill some rattlesnakes with a trowel!  \\r\\nWe'll break all the windows in the old Anderson place  \\r\\nAnd steal a bunch of boysenberrys  \\r\\nAnd smear 'em on our face!  \\r\\nI'll get a dollar from my mamas purse  \\r\\nAnd buy that skull and crossbones ring  \\r\\nAnd you can wear it around your neck  \\r\\nOn an old piece of string  \\r\\n  \\r\\nThen we'll spit on Ronnie Arnold  \\r\\nAnd flip him the bird  \\r\\nAnd slash the tires on the school bus  \\r\\nNow don't say a word!  \\r\\nI'll take a rusty nail  \\r\\nAnd scratch your initials on my arm  \\r\\nAnd I'll show you how to sneak up  \\r\\nOn the roof of the drugstore  \\r\\n  \\r\\nTake the spokes from your wheelchair  \\r\\nAnd a magpies wings  \\r\\nAnd tie 'em to your shoulders and your feet!  \\r\\nI'll steal a hacksaw from my dad  \\r\\nAnd cut the braces off your legs  \\r\\nAnd we'll bury them tonight in the cornfield  \\r\\n  \\r\\nPut a church key in your pocket  \\r\\nWe'll hop that freight train in the hall  \\r\\nAnd we'll slide all the way down the drain  \\r\\nTo New Orleans in the fall!\\r\\n\\r\\n\""
      ]
     },
     "execution_count": 19,
     "metadata": {},
     "output_type": "execute_result"
    }
   ],
   "source": [
    "df['text'][0]"
   ]
  },
  {
   "cell_type": "code",
   "execution_count": 20,
   "id": "5a9117a7-699a-476b-bf95-0cf17db86cd6",
   "metadata": {},
   "outputs": [
    {
     "data": {
      "text/plain": [
       "(5000, 3)"
      ]
     },
     "execution_count": 20,
     "metadata": {},
     "output_type": "execute_result"
    }
   ],
   "source": [
    "df.shape"
   ]
  },
  {
   "cell_type": "markdown",
   "id": "5b4a78ed-e64a-40d0-aff6-b21b146f4793",
   "metadata": {},
   "source": [
    "# Text cleaning/Text preprocessing"
   ]
  },
  {
   "cell_type": "code",
   "execution_count": 21,
   "id": "5012fdb0-5015-4c56-857b-02feafa73c62",
   "metadata": {},
   "outputs": [],
   "source": [
    "df['text'] = df['text'].str.lower().replace(r'^/w/s',' ').replace(r'/n',' ',regex = True)"
   ]
  },
  {
   "cell_type": "code",
   "execution_count": 22,
   "id": "fa1b70fb-7fae-4d2e-9c67-8f9042af97eb",
   "metadata": {},
   "outputs": [
    {
     "data": {
      "text/html": [
       "<div>\n",
       "<style scoped>\n",
       "    .dataframe tbody tr th:only-of-type {\n",
       "        vertical-align: middle;\n",
       "    }\n",
       "\n",
       "    .dataframe tbody tr th {\n",
       "        vertical-align: top;\n",
       "    }\n",
       "\n",
       "    .dataframe thead th {\n",
       "        text-align: right;\n",
       "    }\n",
       "</style>\n",
       "<table border=\"1\" class=\"dataframe\">\n",
       "  <thead>\n",
       "    <tr style=\"text-align: right;\">\n",
       "      <th></th>\n",
       "      <th>artist</th>\n",
       "      <th>song</th>\n",
       "      <th>text</th>\n",
       "    </tr>\n",
       "  </thead>\n",
       "  <tbody>\n",
       "    <tr>\n",
       "      <th>4995</th>\n",
       "      <td>Elton John</td>\n",
       "      <td>Belfast</td>\n",
       "      <td>deep inside  \\r\\nmy soul fights a war  \\r\\ni c...</td>\n",
       "    </tr>\n",
       "    <tr>\n",
       "      <th>4996</th>\n",
       "      <td>Kinks</td>\n",
       "      <td>Do It Again</td>\n",
       "      <td>standing in the middle of nowhere  \\r\\nwonderi...</td>\n",
       "    </tr>\n",
       "    <tr>\n",
       "      <th>4997</th>\n",
       "      <td>Glee</td>\n",
       "      <td>Just The Way You Are</td>\n",
       "      <td>her eyes, her eyes  \\r\\nmake the stars look li...</td>\n",
       "    </tr>\n",
       "    <tr>\n",
       "      <th>4998</th>\n",
       "      <td>Bing Crosby</td>\n",
       "      <td>Evelina</td>\n",
       "      <td>evelina, won't ya ever take a shine to that mo...</td>\n",
       "    </tr>\n",
       "    <tr>\n",
       "      <th>4999</th>\n",
       "      <td>Hank Snow</td>\n",
       "      <td>How Big Is God</td>\n",
       "      <td>though men may strife to go  \\r\\nbeyond the re...</td>\n",
       "    </tr>\n",
       "  </tbody>\n",
       "</table>\n",
       "</div>"
      ],
      "text/plain": [
       "           artist                  song  \\\n",
       "4995   Elton John               Belfast   \n",
       "4996        Kinks           Do It Again   \n",
       "4997         Glee  Just The Way You Are   \n",
       "4998  Bing Crosby               Evelina   \n",
       "4999    Hank Snow        How Big Is God   \n",
       "\n",
       "                                                   text  \n",
       "4995  deep inside  \\r\\nmy soul fights a war  \\r\\ni c...  \n",
       "4996  standing in the middle of nowhere  \\r\\nwonderi...  \n",
       "4997  her eyes, her eyes  \\r\\nmake the stars look li...  \n",
       "4998  evelina, won't ya ever take a shine to that mo...  \n",
       "4999  though men may strife to go  \\r\\nbeyond the re...  "
      ]
     },
     "execution_count": 22,
     "metadata": {},
     "output_type": "execute_result"
    }
   ],
   "source": [
    "df.tail(5)"
   ]
  },
  {
   "cell_type": "code",
   "execution_count": 23,
   "id": "08e78dc9-5423-4dec-a5c8-ae768a9ff678",
   "metadata": {},
   "outputs": [
    {
     "name": "stderr",
     "output_type": "stream",
     "text": [
      "[nltk_data] Downloading package punkt to\n",
      "[nltk_data]     C:\\Users\\jyoti\\AppData\\Roaming\\nltk_data...\n",
      "[nltk_data]   Package punkt is already up-to-date!\n"
     ]
    },
    {
     "data": {
      "text/plain": [
       "True"
      ]
     },
     "execution_count": 23,
     "metadata": {},
     "output_type": "execute_result"
    }
   ],
   "source": [
    "import nltk\n",
    "from nltk.stem import PorterStemmer\n",
    "nltk.download('punkt')"
   ]
  },
  {
   "cell_type": "code",
   "execution_count": 24,
   "id": "f9b798cc-d1b0-4710-b41b-06ab7120da89",
   "metadata": {},
   "outputs": [],
   "source": [
    "stemmer = PorterStemmer()"
   ]
  },
  {
   "cell_type": "code",
   "execution_count": 25,
   "id": "d729024c-8ebc-4598-b351-971ae3a274d0",
   "metadata": {},
   "outputs": [],
   "source": [
    "def token(txt):\n",
    "    token = nltk.word_tokenize(txt)\n",
    "    a=[stemmer.stem(w) for w in token]\n",
    "    return \" \".join(a)\n",
    "    \n",
    "    "
   ]
  },
  {
   "cell_type": "code",
   "execution_count": 26,
   "id": "76699074-5460-4277-97d7-0666f46b1e47",
   "metadata": {},
   "outputs": [
    {
     "data": {
      "text/plain": [
       "'you are beauti , beauti'"
      ]
     },
     "execution_count": 26,
     "metadata": {},
     "output_type": "execute_result"
    }
   ],
   "source": [
    "token(\"you are beautiful,beauty\")"
   ]
  },
  {
   "cell_type": "code",
   "execution_count": 41,
   "id": "9a123d2b-0905-4d49-9d06-c0067a390f30",
   "metadata": {},
   "outputs": [],
   "source": [
    "from sklearn.feature_extraction.text import TfidfVectorizer\n",
    "from sklearn.metrics.pairwise import cosine_similarity\n"
   ]
  },
  {
   "cell_type": "code",
   "execution_count": 49,
   "id": "a14c2bbd-0766-488a-a843-756679182819",
   "metadata": {},
   "outputs": [],
   "source": [
    "# Create an instance of TfidfVectorizer with specified parameters\n",
    "tfidf = TfidfVectorizer(analyzer='word', stop_words='english')"
   ]
  },
  {
   "cell_type": "code",
   "execution_count": 50,
   "id": "0b5a0072-e49e-4b47-80c8-b73cf7dae443",
   "metadata": {},
   "outputs": [],
   "source": [
    "# Fit and transform the documents into TF-IDF vectors\n",
    "matrix = tfidf.fit_transform(df['text'])"
   ]
  },
  {
   "cell_type": "code",
   "execution_count": 51,
   "id": "718976c7-26dd-4a55-b12b-8e8b6c1d1180",
   "metadata": {},
   "outputs": [],
   "source": [
    "# Compute cosine similarity between the documents\n",
    "similer = cosine_similarity(matrix)"
   ]
  },
  {
   "cell_type": "code",
   "execution_count": 52,
   "id": "cf2dc008-ad90-452d-a059-a824ee01f483",
   "metadata": {},
   "outputs": [
    {
     "data": {
      "text/plain": [
       "array([1.        , 0.00542491, 0.01095618, ..., 0.02455147, 0.00178704,\n",
       "       0.00867661])"
      ]
     },
     "execution_count": 52,
     "metadata": {},
     "output_type": "execute_result"
    }
   ],
   "source": [
    "similer[0]"
   ]
  },
  {
   "cell_type": "code",
   "execution_count": 55,
   "id": "99b48025-b0e0-453c-8ac0-77d6c7daad2b",
   "metadata": {},
   "outputs": [
    {
     "data": {
      "text/plain": [
       "4995"
      ]
     },
     "execution_count": 55,
     "metadata": {},
     "output_type": "execute_result"
    }
   ],
   "source": [
    "df[df['song']=='Belfast'].index[0]"
   ]
  },
  {
   "cell_type": "markdown",
   "id": "4a64b244-fa36-495a-aff3-97b6c201e7a0",
   "metadata": {},
   "source": [
    "# recommender Function"
   ]
  },
  {
   "cell_type": "code",
   "execution_count": 56,
   "id": "74cccad4-f1cc-4de5-b9cc-56ae52ce9b51",
   "metadata": {},
   "outputs": [],
   "source": [
    "def recommender(song_name):\n",
    "    # Get the index of the song in the DataFrame\n",
    "    idx = df[df['song'] == song_name].index[0]\n",
    "    \n",
    "    # Get the similarity distances for the song\n",
    "    distance = sorted(list(enumerate(similer[idx])), reverse=True, key=lambda x: x[1])\n",
    "    \n",
    "    # Initialize an empty list to store recommended songs\n",
    "    song = []\n",
    "    \n",
    "    # Loop through the sorted distances to get the top 20 recommendations\n",
    "    for s_id in distance[1:21]:  # Start from 1 to exclude the song itself\n",
    "        song.append(df.iloc[s_id[0]].song)\n",
    "    \n",
    "    return song\n"
   ]
  },
  {
   "cell_type": "code",
   "execution_count": 59,
   "id": "3d88aed6-65d1-4c24-ac7b-ca31a7a7a71b",
   "metadata": {},
   "outputs": [
    {
     "data": {
      "text/plain": [
       "[\"Don't You Know\",\n",
       " 'Grenade',\n",
       " \"I'm Him\",\n",
       " 'Grenade',\n",
       " 'Novelty',\n",
       " 'Power To Move Ya',\n",
       " \"It Won't Take Long\",\n",
       " 'We Could Be So Good Together',\n",
       " 'Hell Wit Ya',\n",
       " 'Overnight Male',\n",
       " 'Worthy To Say',\n",
       " \"Life'll Kill Ya\",\n",
       " 'Get Down',\n",
       " 'Insane Killas',\n",
       " 'November Rain',\n",
       " 'Morning Glory',\n",
       " 'Stronger',\n",
       " 'Oye Baby',\n",
       " 'I Go Down',\n",
       " 'Alleluja']"
      ]
     },
     "execution_count": 59,
     "metadata": {},
     "output_type": "execute_result"
    }
   ],
   "source": [
    "recommender (\"Evelina\")"
   ]
  },
  {
   "cell_type": "code",
   "execution_count": 60,
   "id": "15fdb664-6f91-4acc-93bb-b3760f9a7381",
   "metadata": {},
   "outputs": [],
   "source": [
    "import pickle"
   ]
  },
  {
   "cell_type": "code",
   "execution_count": 61,
   "id": "b3039c26-a27a-4a77-9822-dcfca3a37d7e",
   "metadata": {},
   "outputs": [],
   "source": [
    "pickle.dump(similer, open(\"similarity\",\"wb\"))"
   ]
  },
  {
   "cell_type": "code",
   "execution_count": 62,
   "id": "9f13a0d7-719d-4505-9779-7136ab50a7c2",
   "metadata": {},
   "outputs": [],
   "source": [
    "pickle.dump(df, open (\"df\",\"wb\"))"
   ]
  },
  {
   "cell_type": "code",
   "execution_count": null,
   "id": "d6b4e89f-5b9b-460f-8faf-c7f48ca2e424",
   "metadata": {},
   "outputs": [],
   "source": []
  },
  {
   "cell_type": "code",
   "execution_count": null,
   "id": "60ec52cb-e930-4546-8edc-59582efe4dc9",
   "metadata": {},
   "outputs": [],
   "source": []
  }
 ],
 "metadata": {
  "kernelspec": {
   "display_name": "Python 3 (ipykernel)",
   "language": "python",
   "name": "python3"
  },
  "language_info": {
   "codemirror_mode": {
    "name": "ipython",
    "version": 3
   },
   "file_extension": ".py",
   "mimetype": "text/x-python",
   "name": "python",
   "nbconvert_exporter": "python",
   "pygments_lexer": "ipython3",
   "version": "3.12.3"
  }
 },
 "nbformat": 4,
 "nbformat_minor": 5
}
